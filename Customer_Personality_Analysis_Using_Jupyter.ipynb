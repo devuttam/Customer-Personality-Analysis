{
 "cells": [
  {
   "cell_type": "code",
   "execution_count": 11,
   "id": "bb17f5ef-0ca2-46c7-9407-c70922754236",
   "metadata": {},
   "outputs": [],
   "source": [
    "import numpy as np\n",
    "import pandas as pd\n",
    "import matplotlib.pyplot as plt\n",
    "import seaborn as sns\n",
    "\n",
    "df=pd.read_csv('marketing_campaign.csv', sep='\\t')"
   ]
  },
  {
   "cell_type": "code",
   "execution_count": 12,
   "id": "342be525-2758-41a0-a632-a169ce899615",
   "metadata": {},
   "outputs": [
    {
     "name": "stdout",
     "output_type": "stream",
     "text": [
      "<class 'pandas.core.frame.DataFrame'>\n",
      "RangeIndex: 2240 entries, 0 to 2239\n",
      "Data columns (total 29 columns):\n",
      " #   Column               Non-Null Count  Dtype  \n",
      "---  ------               --------------  -----  \n",
      " 0   ID                   2240 non-null   int64  \n",
      " 1   Year_Birth           2240 non-null   int64  \n",
      " 2   Education            2240 non-null   object \n",
      " 3   Marital_Status       2240 non-null   object \n",
      " 4   Income               2216 non-null   float64\n",
      " 5   Kidhome              2240 non-null   int64  \n",
      " 6   Teenhome             2240 non-null   int64  \n",
      " 7   Dt_Customer          2240 non-null   object \n",
      " 8   Recency              2240 non-null   int64  \n",
      " 9   MntWines             2240 non-null   int64  \n",
      " 10  MntFruits            2240 non-null   int64  \n",
      " 11  MntMeatProducts      2240 non-null   int64  \n",
      " 12  MntFishProducts      2240 non-null   int64  \n",
      " 13  MntSweetProducts     2240 non-null   int64  \n",
      " 14  MntGoldProds         2240 non-null   int64  \n",
      " 15  NumDealsPurchases    2240 non-null   int64  \n",
      " 16  NumWebPurchases      2240 non-null   int64  \n",
      " 17  NumCatalogPurchases  2240 non-null   int64  \n",
      " 18  NumStorePurchases    2240 non-null   int64  \n",
      " 19  NumWebVisitsMonth    2240 non-null   int64  \n",
      " 20  AcceptedCmp3         2240 non-null   int64  \n",
      " 21  AcceptedCmp4         2240 non-null   int64  \n",
      " 22  AcceptedCmp5         2240 non-null   int64  \n",
      " 23  AcceptedCmp1         2240 non-null   int64  \n",
      " 24  AcceptedCmp2         2240 non-null   int64  \n",
      " 25  Complain             2240 non-null   int64  \n",
      " 26  Z_CostContact        2240 non-null   int64  \n",
      " 27  Z_Revenue            2240 non-null   int64  \n",
      " 28  Response             2240 non-null   int64  \n",
      "dtypes: float64(1), int64(25), object(3)\n",
      "memory usage: 507.6+ KB\n"
     ]
    }
   ],
   "source": [
    "df.info()"
   ]
  },
  {
   "cell_type": "code",
   "execution_count": 17,
   "id": "a26bf482-e0b4-44ea-89fb-de7301f0b0c3",
   "metadata": {},
   "outputs": [
    {
     "name": "stdout",
     "output_type": "stream",
     "text": [
      "Initial shape: (2240, 29)\n",
      "     ID  Year_Birth   Education Marital_Status   Income  Kidhome  Teenhome  \\\n",
      "0  5524        1957  Graduation         Single  58138.0        0         0   \n",
      "1  2174        1954  Graduation         Single  46344.0        1         1   \n",
      "2  4141        1965  Graduation       Together  71613.0        0         0   \n",
      "3  6182        1984  Graduation       Together  26646.0        1         0   \n",
      "4  5324        1981         PhD        Married  58293.0        1         0   \n",
      "\n",
      "  Dt_Customer  Recency  MntWines  ...  NumWebVisitsMonth  AcceptedCmp3  \\\n",
      "0  04-09-2012       58       635  ...                  7             0   \n",
      "1  08-03-2014       38        11  ...                  5             0   \n",
      "2  21-08-2013       26       426  ...                  4             0   \n",
      "3  10-02-2014       26        11  ...                  6             0   \n",
      "4  19-01-2014       94       173  ...                  5             0   \n",
      "\n",
      "   AcceptedCmp4  AcceptedCmp5  AcceptedCmp1  AcceptedCmp2  Complain  \\\n",
      "0             0             0             0             0         0   \n",
      "1             0             0             0             0         0   \n",
      "2             0             0             0             0         0   \n",
      "3             0             0             0             0         0   \n",
      "4             0             0             0             0         0   \n",
      "\n",
      "   Z_CostContact  Z_Revenue  Response  \n",
      "0              3         11         1  \n",
      "1              3         11         0  \n",
      "2              3         11         0  \n",
      "3              3         11         0  \n",
      "4              3         11         0  \n",
      "\n",
      "[5 rows x 29 columns]\n"
     ]
    }
   ],
   "source": [
    "# Preview dataset\n",
    "print(\"Initial shape:\", df.shape)\n",
    "print(df.head())"
   ]
  },
  {
   "cell_type": "code",
   "execution_count": 30,
   "id": "f2341f0a-95f4-45d8-9fb9-13dbb5469340",
   "metadata": {},
   "outputs": [
    {
     "name": "stdout",
     "output_type": "stream",
     "text": [
      "\n",
      "Missing Values per column:\n",
      "ID                     0\n",
      "Year_Birth             0\n",
      "Education              0\n",
      "Marital_Status         0\n",
      "Income                 0\n",
      "Kidhome                0\n",
      "Teenhome               0\n",
      "Dt_Customer            0\n",
      "Recency                0\n",
      "MntWines               0\n",
      "MntFruits              0\n",
      "MntMeatProducts        0\n",
      "MntFishProducts        0\n",
      "MntSweetProducts       0\n",
      "MntGoldProds           0\n",
      "NumDealsPurchases      0\n",
      "NumWebPurchases        0\n",
      "NumCatalogPurchases    0\n",
      "NumStorePurchases      0\n",
      "NumWebVisitsMonth      0\n",
      "AcceptedCmp3           0\n",
      "AcceptedCmp4           0\n",
      "AcceptedCmp5           0\n",
      "AcceptedCmp1           0\n",
      "AcceptedCmp2           0\n",
      "Complain               0\n",
      "Z_CostContact          0\n",
      "Z_Revenue              0\n",
      "Response               0\n",
      "dtype: int64\n"
     ]
    }
   ],
   "source": [
    "# 1. CHECK & HANDLE MISSING VALUES\n",
    "print(\"\\nMissing Values per column:\")\n",
    "print(df.isnull().sum())"
   ]
  },
  {
   "cell_type": "code",
   "execution_count": 25,
   "id": "a3ecb650-7ba2-439a-a268-6c5c1a8b1482",
   "metadata": {},
   "outputs": [],
   "source": [
    "# Drop rows with too many nulls (e.g., Income)\n",
    "df = df.dropna(subset=['Income'])"
   ]
  },
  {
   "cell_type": "code",
   "execution_count": 31,
   "id": "ab57d51e-7fa9-40dc-bab2-9964377395c0",
   "metadata": {},
   "outputs": [
    {
     "name": "stdout",
     "output_type": "stream",
     "text": [
      "\n",
      "Duplicate Before Remove 0\n",
      "\n",
      "Duplicate After Remove 0\n"
     ]
    }
   ],
   "source": [
    "# 2. REMOVE DUPLICATES\n",
    "print(\"\\nDuplicate Before Remove\", df.duplicated().sum())\n",
    "df = df.drop_duplicates()\n",
    "print(\"\\nDuplicate After Remove\", df.duplicated().sum())"
   ]
  },
  {
   "cell_type": "code",
   "execution_count": 33,
   "id": "db83f789-1951-4b5d-b802-7f0a95c514cc",
   "metadata": {},
   "outputs": [],
   "source": [
    "# 3. STANDARDIZE TEXT VALUES\n",
    "# Clean Gender column\n",
    "# df['Gender'] = df['Gender'].str.strip().str.capitalize()\n",
    "\n",
    "# Standardize Marital_Status and Education\n",
    "df['Marital_Status'] = df['Marital_Status'].str.strip().str.title()\n",
    "df['Education'] = df['Education'].str.strip().str.title()"
   ]
  },
  {
   "cell_type": "code",
   "execution_count": 40,
   "id": "11725c50-4b05-4765-a3db-aacbbb098831",
   "metadata": {},
   "outputs": [
    {
     "name": "stdout",
     "output_type": "stream",
     "text": [
      "['ID', 'Year_Birth', 'Education', 'Marital_Status', 'Income', 'Kidhome', 'Teenhome', 'Dt_Customer', 'Recency', 'MntWines', 'MntFruits', 'MntMeatProducts', 'MntFishProducts', 'MntSweetProducts', 'MntGoldProds', 'NumDealsPurchases', 'NumWebPurchases', 'NumCatalogPurchases', 'NumStorePurchases', 'NumWebVisitsMonth', 'AcceptedCmp3', 'AcceptedCmp4', 'AcceptedCmp5', 'AcceptedCmp1', 'AcceptedCmp2', 'Complain', 'Z_CostContact', 'Z_Revenue', 'Response']\n"
     ]
    }
   ],
   "source": [
    "print(df.columns.tolist())"
   ]
  },
  {
   "cell_type": "code",
   "execution_count": 41,
   "id": "059d3ea9-ec55-469c-8fb4-fb80bbd60f35",
   "metadata": {},
   "outputs": [
    {
     "name": "stdout",
     "output_type": "stream",
     "text": [
      "['04-09-2012' '08-03-2014' '21-08-2013' '10-02-2014' '19-01-2014'\n",
      " '09-09-2013' '13-11-2012' '08-05-2013' '06-06-2013' '13-03-2014']\n"
     ]
    }
   ],
   "source": [
    "print(df['Dt_Customer'].unique()[:10])  # Preview first 10 unique values\n"
   ]
  },
  {
   "cell_type": "code",
   "execution_count": 43,
   "id": "f2ae2ba8-0cd7-4b2a-a0a7-1b1729051068",
   "metadata": {},
   "outputs": [],
   "source": [
    "# 4. FIX DATE FORMAT\n",
    "df['Dt_Customer'] = pd.to_datetime(df['Dt_Customer'], dayfirst=True, errors='coerce')"
   ]
  },
  {
   "cell_type": "code",
   "execution_count": 44,
   "id": "327de513-2696-4d6f-9d85-73ce6828ab57",
   "metadata": {},
   "outputs": [
    {
     "name": "stdout",
     "output_type": "stream",
     "text": [
      "<DatetimeArray>\n",
      "['2012-09-04 00:00:00', '2014-03-08 00:00:00', '2013-08-21 00:00:00',\n",
      " '2014-02-10 00:00:00', '2014-01-19 00:00:00', '2013-09-09 00:00:00',\n",
      " '2012-11-13 00:00:00', '2013-05-08 00:00:00', '2013-06-06 00:00:00',\n",
      " '2014-03-13 00:00:00']\n",
      "Length: 10, dtype: datetime64[ns]\n"
     ]
    }
   ],
   "source": [
    "print(df['Dt_Customer'].unique()[:10])  # Preview after changing datatype first 10 unique values"
   ]
  },
  {
   "cell_type": "code",
   "execution_count": 46,
   "id": "84408a1d-a436-4528-8168-47cf8e8dc8f0",
   "metadata": {},
   "outputs": [],
   "source": [
    "# 5. CLEAN COLUMN NAMES\n",
    "df.columns = df.columns.str.strip().str.lower().str.replace(' ', '_')"
   ]
  },
  {
   "cell_type": "code",
   "execution_count": 47,
   "id": "52147a3f-43f4-4467-bbdf-f3816b7af553",
   "metadata": {},
   "outputs": [
    {
     "name": "stdout",
     "output_type": "stream",
     "text": [
      "['id', 'year_birth', 'education', 'marital_status', 'income', 'kidhome', 'teenhome', 'dt_customer', 'recency', 'mntwines', 'mntfruits', 'mntmeatproducts', 'mntfishproducts', 'mntsweetproducts', 'mntgoldprods', 'numdealspurchases', 'numwebpurchases', 'numcatalogpurchases', 'numstorepurchases', 'numwebvisitsmonth', 'acceptedcmp3', 'acceptedcmp4', 'acceptedcmp5', 'acceptedcmp1', 'acceptedcmp2', 'complain', 'z_costcontact', 'z_revenue', 'response']\n"
     ]
    }
   ],
   "source": [
    "print(df.columns.tolist()) #After cleaning Columns"
   ]
  },
  {
   "cell_type": "code",
   "execution_count": 48,
   "id": "d3029e7a-20b4-4ac0-9c04-ee18a01966f0",
   "metadata": {},
   "outputs": [],
   "source": [
    "# 6. CONVERT DATA TYPES\n",
    "# Age is derived, but customer birth year is present\n",
    "\n",
    "df['age'] = 2025 - df['year_birth'] # Assuming current year is 2025\n",
    "df['income'] = df['income'].astype(float)"
   ]
  },
  {
   "cell_type": "code",
   "execution_count": 51,
   "id": "380a1d4b-173e-4dc7-8852-f1c5b63d5687",
   "metadata": {},
   "outputs": [
    {
     "data": {
      "image/png": "[encoded data removed]",
      "text/plain": [
       "<Figure size 640x480 with 1 Axes>"
      ]
     },
     "metadata": {},
     "output_type": "display_data"
    }
   ],
   "source": [
    "# 7. OUTLIER TREATMENT\n",
    "# Outliers in income\n",
    "\n",
    "sns.boxplot(df['income'])\n",
    "plt.title(\"Boxplot - Income\")\n",
    "plt.show()\n",
    "\n"
   ]
  },
  {
   "cell_type": "code",
   "execution_count": 52,
   "id": "e8a1ff9a-71ce-490f-864a-0a9c0d5a1389",
   "metadata": {},
   "outputs": [
    {
     "data": {
      "image/png": "[encoded data removed]",
      "text/plain": [
       "<Figure size 640x480 with 1 Axes>"
      ]
     },
     "metadata": {},
     "output_type": "display_data"
    }
   ],
   "source": [
    "# 7. OUTLIER TREATMENT\n",
    "# Outliers in income\n",
    "\n",
    "sns.boxplot(df['income'])\n",
    "plt.title(\"Boxplot - Income\")\n",
    "plt.show()\n",
    "\n",
    "# Remove income outliers above 99 percentile\n",
    "upper_limit = df['income'].quantile(0.99)\n",
    "df = df[df['income'] < upper_limit]"
   ]
  },
  {
   "cell_type": "code",
   "execution_count": 53,
   "id": "796672c0-9091-4cc7-baef-3813eb666f03",
   "metadata": {},
   "outputs": [
    {
     "name": "stdout",
     "output_type": "stream",
     "text": [
      "\n",
      "Final shape: (2193, 30)\n",
      "\n",
      "Cleaned data sample:\n",
      "     id  year_birth   education marital_status   income  kidhome  teenhome  \\\n",
      "0  5524        1957  Graduation         Single  58138.0        0         0   \n",
      "1  2174        1954  Graduation         Single  46344.0        1         1   \n",
      "2  4141        1965  Graduation       Together  71613.0        0         0   \n",
      "3  6182        1984  Graduation       Together  26646.0        1         0   \n",
      "4  5324        1981         Phd        Married  58293.0        1         0   \n",
      "\n",
      "  dt_customer  recency  mntwines  ...  acceptedcmp3  acceptedcmp4  \\\n",
      "0  2012-09-04       58       635  ...             0             0   \n",
      "1  2014-03-08       38        11  ...             0             0   \n",
      "2  2013-08-21       26       426  ...             0             0   \n",
      "3  2014-02-10       26        11  ...             0             0   \n",
      "4  2014-01-19       94       173  ...             0             0   \n",
      "\n",
      "   acceptedcmp5  acceptedcmp1  acceptedcmp2  complain  z_costcontact  \\\n",
      "0             0             0             0         0              3   \n",
      "1             0             0             0         0              3   \n",
      "2             0             0             0         0              3   \n",
      "3             0             0             0         0              3   \n",
      "4             0             0             0         0              3   \n",
      "\n",
      "   z_revenue  response  age  \n",
      "0         11         1   68  \n",
      "1         11         0   71  \n",
      "2         11         0   60  \n",
      "3         11         0   41  \n",
      "4         11         0   44  \n",
      "\n",
      "[5 rows x 30 columns]\n"
     ]
    }
   ],
   "source": [
    "# 8. FINAL CHECKS\n",
    "\n",
    "print(\"\\nFinal shape:\", df.shape)\n",
    "print(\"\\nCleaned data sample:\")\n",
    "print(df.head())"
   ]
  },
  {
   "cell_type": "code",
   "execution_count": 54,
   "id": "9c3c782b-cc32-4079-aed8-e452741ce8be",
   "metadata": {},
   "outputs": [],
   "source": [
    "# Save cleaned dataset\n",
    "\n",
    "df.to_csv(\"cleaned_marketing_campaign.csv\", index=False)"
   ]
  },
  {
   "cell_type": "code",
   "execution_count": null,
   "id": "b9d22636-87ba-4130-bb03-3dac62b8cbfc",
   "metadata": {},
   "outputs": [],
   "source": []
  }
 ],
 "metadata": {
  "kernelspec": {
   "display_name": "Python 3 (ipykernel)",
   "language": "python",
   "name": "python3"
  },
  "language_info": {
   "codemirror_mode": {
    "name": "ipython",
    "version": 3
   },
   "file_extension": ".py",
   "mimetype": "text/x-python",
   "name": "python",
   "nbconvert_exporter": "python",
   "pygments_lexer": "ipython3",
   "version": "3.13.5"
  }
 },
 "nbformat": 4,
 "nbformat_minor": 5
}
